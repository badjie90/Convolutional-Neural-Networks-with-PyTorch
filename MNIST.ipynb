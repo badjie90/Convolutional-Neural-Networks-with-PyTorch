{
 "cells": [
  {
   "cell_type": "markdown",
   "metadata": {},
   "source": [
    "# MNIST Code Along with CNN\n",
    "\n",
    "Now that we've seen the results of an artificial neural network model on the MNIST dataset, let's work the same\n",
    "data with a Convolutional Neural Network (CNN). Make sure to watch the theory lectures! You'll want to be\n",
    "comfortable with:\n",
    "    \n",
    "* convolutional layers\n",
    "* filters/kernels\n",
    "* pooling\n",
    "* depth, stride and zero-padding\n",
    "\n",
    "Note that in this exercise there is no need to flatten the MNIST data, as a CNN expects 2-dimensional data."
   ]
  },
  {
   "cell_type": "markdown",
   "metadata": {},
   "source": [
    "### Perform standard imports"
   ]
  },
  {
   "cell_type": "code",
   "execution_count": 1,
   "metadata": {},
   "outputs": [],
   "source": [
    "import torch\n",
    "import torch.nn as nn\n",
    "import torch.nn.functional as F\n",
    "from torch.utils.data import DataLoader\n",
    "from torchvision import datasets, transforms\n",
    "from torchvision.utils import make_grid\n",
    "\n",
    "import numpy as np\n",
    "import pandas as pd\n",
    "import matplotlib.pyplot as plt\n",
    "from sklearn.metrics import confusion_matrix"
   ]
  },
  {
   "cell_type": "markdown",
   "metadata": {},
   "source": [
    "### Load the MNIST dataset\n",
    "PyTorch makes the MNIST train and test datasets available through torchvision. The first time they're called,\n",
    "the datasets will be downloaded onto your computer to the path specified. From that point, torchvision will\n",
    "always look for a local copy before attempting another download.\n",
    "\n",
    "Refer to the previous section for explanations of transformations, batch sizes and DataLoader."
   ]
  },
  {
   "cell_type": "code",
   "execution_count": 2,
   "metadata": {},
   "outputs": [],
   "source": [
    "transform = transforms.ToTensor()\n",
    "train_data = datasets.MNIST(root='data_cnn', train=True, \n",
    "                            transform=transform)\n",
    "test_data = datasets.MNIST(root = 'data_cnn', train= False,\n",
    "                          transform=transform)"
   ]
  },
  {
   "cell_type": "code",
   "execution_count": 3,
   "metadata": {},
   "outputs": [
    {
     "data": {
      "text/plain": [
       "Dataset MNIST\n",
       "    Number of datapoints: 60000\n",
       "    Root location: data_cnn\n",
       "    Split: Train\n",
       "    StandardTransform\n",
       "Transform: ToTensor()"
      ]
     },
     "execution_count": 3,
     "metadata": {},
     "output_type": "execute_result"
    }
   ],
   "source": [
    "train_data"
   ]
  },
  {
   "cell_type": "code",
   "execution_count": 4,
   "metadata": {},
   "outputs": [
    {
     "data": {
      "text/plain": [
       "Dataset MNIST\n",
       "    Number of datapoints: 10000\n",
       "    Root location: data_cnn\n",
       "    Split: Test\n",
       "    StandardTransform\n",
       "Transform: ToTensor()"
      ]
     },
     "execution_count": 4,
     "metadata": {},
     "output_type": "execute_result"
    }
   ],
   "source": [
    "test_data"
   ]
  },
  {
   "cell_type": "markdown",
   "metadata": {},
   "source": [
    "### Create loaders\n",
    "\n",
    "When working with images, we want relatively small batches; a batch size of 4 is not uncommon."
   ]
  },
  {
   "cell_type": "code",
   "execution_count": 5,
   "metadata": {},
   "outputs": [],
   "source": [
    "train_loader=DataLoader(train_data, batch_size=10,\n",
    "                        shuffle=True)\n",
    "test_loader=DataLoader(test_data, batch_size=10,\n",
    "                       shuffle=False)"
   ]
  },
  {
   "cell_type": "markdown",
   "metadata": {},
   "source": [
    "### Define a convolutional model\n",
    "\n",
    "In the previous section we used only fully connected layers, with an input layer of 784 (our flattened 28x28\n",
    "images), hidden layers of 120 and 84 neurons, and an output size representing 10 possible digits.\n",
    "\n",
    "This time we'll employ two convolutional layers and two pooling layers before feeding data through fully\n",
    "connected hidden layers to our output. The model follows CONV/RELU/POOL/CONV/RELU/POOL/FC/RELU/FC."
   ]
  },
  {
   "cell_type": "code",
   "execution_count": 6,
   "metadata": {},
   "outputs": [],
   "source": [
    "# 1=COLOR CHANNEL, 6=FILYTERS (OUTPUT CHANNELS), 3by3 KENRNEL, STRIDE=1\n",
    "conv1 = nn.Conv2d(1,6,3,1)#--->6 filters--->pooling--->conv2d\n",
    "\n",
    "# 6 inputs filters from conv1, 16 filters, 3by3, stride=1\n",
    "conv2 = nn.Conv2d(6,16,3,1)"
   ]
  },
  {
   "cell_type": "code",
   "execution_count": 7,
   "metadata": {},
   "outputs": [],
   "source": [
    "for i ,(x_train, y_train) in enumerate(train_data):\n",
    "    break"
   ]
  },
  {
   "cell_type": "code",
   "execution_count": 9,
   "metadata": {},
   "outputs": [
    {
     "data": {
      "text/plain": [
       "torch.Size([1, 28, 28])"
      ]
     },
     "execution_count": 9,
     "metadata": {},
     "output_type": "execute_result"
    }
   ],
   "source": [
    "x_train.shape"
   ]
  },
  {
   "cell_type": "code",
   "execution_count": 10,
   "metadata": {},
   "outputs": [],
   "source": [
    "X=x_train.view(1,1,28,28)# 40 batch (batch of 1 image)"
   ]
  },
  {
   "cell_type": "code",
   "execution_count": 11,
   "metadata": {},
   "outputs": [],
   "source": [
    "X=F.relu(conv1(X))"
   ]
  },
  {
   "cell_type": "code",
   "execution_count": 12,
   "metadata": {},
   "outputs": [
    {
     "data": {
      "text/plain": [
       "torch.Size([1, 6, 26, 26])"
      ]
     },
     "execution_count": 12,
     "metadata": {},
     "output_type": "execute_result"
    }
   ],
   "source": [
    "X.shape"
   ]
  },
  {
   "cell_type": "code",
   "execution_count": 16,
   "metadata": {},
   "outputs": [],
   "source": [
    "# Run the first pooling layer\n",
    "X = F.max_pool2d(X,2,2)"
   ]
  },
  {
   "cell_type": "code",
   "execution_count": 17,
   "metadata": {},
   "outputs": [
    {
     "data": {
      "text/plain": [
       "torch.Size([1, 6, 13, 13])"
      ]
     },
     "execution_count": 17,
     "metadata": {},
     "output_type": "execute_result"
    }
   ],
   "source": [
    "X.shape"
   ]
  },
  {
   "cell_type": "code",
   "execution_count": 18,
   "metadata": {},
   "outputs": [],
   "source": [
    "# Perform the second convolution/activation\n",
    "X = F.relu(conv2(X))"
   ]
  },
  {
   "cell_type": "code",
   "execution_count": 19,
   "metadata": {},
   "outputs": [
    {
     "data": {
      "text/plain": [
       "torch.Size([1, 16, 11, 11])"
      ]
     },
     "execution_count": 19,
     "metadata": {},
     "output_type": "execute_result"
    }
   ],
   "source": [
    "X.shape"
   ]
  },
  {
   "cell_type": "code",
   "execution_count": 20,
   "metadata": {},
   "outputs": [],
   "source": [
    "X = F.max_pool2d(X,2,2)"
   ]
  },
  {
   "cell_type": "code",
   "execution_count": 21,
   "metadata": {},
   "outputs": [
    {
     "data": {
      "text/plain": [
       "torch.Size([1, 16, 5, 5])"
      ]
     },
     "execution_count": 21,
     "metadata": {},
     "output_type": "execute_result"
    }
   ],
   "source": [
    "X.shape"
   ]
  },
  {
   "cell_type": "code",
   "execution_count": 22,
   "metadata": {},
   "outputs": [
    {
     "data": {
      "text/plain": [
       "torch.Size([1, 400])"
      ]
     },
     "execution_count": 22,
     "metadata": {},
     "output_type": "execute_result"
    }
   ],
   "source": [
    "X.view(-1,16*5*5).shape"
   ]
  },
  {
   "cell_type": "code",
   "execution_count": 32,
   "metadata": {},
   "outputs": [],
   "source": [
    "class ConvolutionalNetwork(nn.Module):\n",
    "    def __init__(self):\n",
    "        super().__init__()\n",
    "        self.conv1=nn.Conv2d(1,6,3,1)\n",
    "        self.conv2 = nn.Conv2d(6,16,3,1)\n",
    "        self.fc1 = nn.Linear(5*5*16,120)\n",
    "        self.fc2 = nn.Linear(120,84)\n",
    "        self.fc3 = nn.Linear(84,10)\n",
    "        \n",
    "        # FORWARD CHANNEL\n",
    "    def forward(self,x):\n",
    "            x=F.relu(self.conv1(x))\n",
    "            x=F.max_pool2d(x,2,2)\n",
    "            x=F.relu(self.conv2(x))\n",
    "            x=F.max_pool2d(x,2,2)\n",
    "            x=x.view(-1,16*5*5)\n",
    "            x=F.relu(self.fc1(x))\n",
    "            x=F.relu(self.fc2(x))\n",
    "            x=self.fc3(x)\n",
    "            return F.log_softmax(x, dim=1)\n",
    "            \n",
    "            \n"
   ]
  },
  {
   "cell_type": "code",
   "execution_count": 33,
   "metadata": {},
   "outputs": [
    {
     "data": {
      "text/plain": [
       "ConvolutionalNetwork(\n",
       "  (conv1): Conv2d(1, 6, kernel_size=(3, 3), stride=(1, 1))\n",
       "  (conv2): Conv2d(6, 16, kernel_size=(3, 3), stride=(1, 1))\n",
       "  (fc1): Linear(in_features=400, out_features=120, bias=True)\n",
       "  (fc2): Linear(in_features=120, out_features=84, bias=True)\n",
       "  (fc3): Linear(in_features=84, out_features=10, bias=True)\n",
       ")"
      ]
     },
     "execution_count": 33,
     "metadata": {},
     "output_type": "execute_result"
    }
   ],
   "source": [
    "torch.manual_seed(42)\n",
    "model = ConvolutionalNetwork()\n",
    "model"
   ]
  },
  {
   "cell_type": "code",
   "execution_count": 34,
   "metadata": {},
   "outputs": [
    {
     "name": "stdout",
     "output_type": "stream",
     "text": [
      "54\n",
      "6\n",
      "864\n",
      "16\n",
      "48000\n",
      "120\n",
      "10080\n",
      "84\n",
      "840\n",
      "10\n"
     ]
    }
   ],
   "source": [
    "for param in model.parameters():\n",
    "    print(param.numel())\n"
   ]
  },
  {
   "cell_type": "markdown",
   "metadata": {},
   "source": [
    "### Define loss function & optimizer"
   ]
  },
  {
   "cell_type": "code",
   "execution_count": 35,
   "metadata": {},
   "outputs": [],
   "source": [
    "criterion = nn.CrossEntropyLoss()\n",
    "optimizer = torch.optim.Adam(model.parameters(), lr=0.001)"
   ]
  },
  {
   "cell_type": "markdown",
   "metadata": {},
   "source": [
    "### Train the model\n",
    "\n",
    "This time we'll feed the data directly into the model without flattening it first."
   ]
  },
  {
   "cell_type": "code",
   "execution_count": 37,
   "metadata": {},
   "outputs": [
    {
     "name": "stdout",
     "output_type": "stream",
     "text": [
      "epoch:  0 batch:  600 [  6000/60000] loss: 0.00422527 \u0007ccuracy:  97.800%\n",
      "epoch:  0 batch: 1200 [ 12000/60000] loss: 0.09006575 \u0007ccuracy:  97.908%\n",
      "epoch:  0 batch: 1800 [ 18000/60000] loss: 0.00052375 \u0007ccuracy:  97.878%\n",
      "epoch:  0 batch: 2400 [ 24000/60000] loss: 0.00890036 \u0007ccuracy:  97.904%\n",
      "epoch:  0 batch: 3000 [ 30000/60000] loss: 0.00872072 \u0007ccuracy:  97.937%\n",
      "epoch:  0 batch: 3600 [ 36000/60000] loss: 1.30186522 \u0007ccuracy:  97.994%\n",
      "epoch:  0 batch: 4200 [ 42000/60000] loss: 0.00505498 \u0007ccuracy:  97.936%\n",
      "epoch:  0 batch: 4800 [ 48000/60000] loss: 0.08935829 \u0007ccuracy:  97.981%\n",
      "epoch:  0 batch: 5400 [ 54000/60000] loss: 0.00125018 \u0007ccuracy:  98.002%\n",
      "epoch:  0 batch: 6000 [ 60000/60000] loss: 0.00106205 \u0007ccuracy:  98.025%\n",
      "epoch:  1 batch:  600 [  6000/60000] loss: 0.00046717 \u0007ccuracy:  98.733%\n",
      "epoch:  1 batch: 1200 [ 12000/60000] loss: 0.00004676 \u0007ccuracy:  98.667%\n",
      "epoch:  1 batch: 1800 [ 18000/60000] loss: 0.00351848 \u0007ccuracy:  98.539%\n",
      "epoch:  1 batch: 2400 [ 24000/60000] loss: 0.00131979 \u0007ccuracy:  98.492%\n",
      "epoch:  1 batch: 3000 [ 30000/60000] loss: 0.09549533 \u0007ccuracy:  98.513%\n",
      "epoch:  1 batch: 3600 [ 36000/60000] loss: 0.01149702 \u0007ccuracy:  98.514%\n",
      "epoch:  1 batch: 4200 [ 42000/60000] loss: 0.01082025 \u0007ccuracy:  98.512%\n",
      "epoch:  1 batch: 4800 [ 48000/60000] loss: 0.00123978 \u0007ccuracy:  98.554%\n",
      "epoch:  1 batch: 5400 [ 54000/60000] loss: 0.00474050 \u0007ccuracy:  98.556%\n",
      "epoch:  1 batch: 6000 [ 60000/60000] loss: 0.00285956 \u0007ccuracy:  98.550%\n",
      "epoch:  2 batch:  600 [  6000/60000] loss: 0.03570670 \u0007ccuracy:  99.133%\n",
      "epoch:  2 batch: 1200 [ 12000/60000] loss: 0.00014600 \u0007ccuracy:  98.967%\n",
      "epoch:  2 batch: 1800 [ 18000/60000] loss: 0.05273075 \u0007ccuracy:  98.889%\n",
      "epoch:  2 batch: 2400 [ 24000/60000] loss: 0.00051132 \u0007ccuracy:  98.846%\n",
      "epoch:  2 batch: 3000 [ 30000/60000] loss: 0.00645082 \u0007ccuracy:  98.853%\n",
      "epoch:  2 batch: 3600 [ 36000/60000] loss: 0.00000874 \u0007ccuracy:  98.864%\n",
      "epoch:  2 batch: 4200 [ 42000/60000] loss: 0.52440494 \u0007ccuracy:  98.848%\n",
      "epoch:  2 batch: 4800 [ 48000/60000] loss: 0.00029578 \u0007ccuracy:  98.838%\n",
      "epoch:  2 batch: 5400 [ 54000/60000] loss: 0.01038610 \u0007ccuracy:  98.846%\n",
      "epoch:  2 batch: 6000 [ 60000/60000] loss: 0.00340079 \u0007ccuracy:  98.848%\n",
      "epoch:  3 batch:  600 [  6000/60000] loss: 0.00078028 \u0007ccuracy:  99.183%\n",
      "epoch:  3 batch: 1200 [ 12000/60000] loss: 0.00280096 \u0007ccuracy:  99.192%\n",
      "epoch:  3 batch: 1800 [ 18000/60000] loss: 0.00096772 \u0007ccuracy:  99.244%\n",
      "epoch:  3 batch: 2400 [ 24000/60000] loss: 0.00044811 \u0007ccuracy:  99.175%\n",
      "epoch:  3 batch: 3000 [ 30000/60000] loss: 0.00508892 \u0007ccuracy:  99.100%\n",
      "epoch:  3 batch: 3600 [ 36000/60000] loss: 0.00011457 \u0007ccuracy:  99.097%\n",
      "epoch:  3 batch: 4200 [ 42000/60000] loss: 0.00033584 \u0007ccuracy:  99.079%\n",
      "epoch:  3 batch: 4800 [ 48000/60000] loss: 0.00055383 \u0007ccuracy:  99.098%\n",
      "epoch:  3 batch: 5400 [ 54000/60000] loss: 0.00135851 \u0007ccuracy:  99.093%\n",
      "epoch:  3 batch: 6000 [ 60000/60000] loss: 0.00077861 \u0007ccuracy:  99.103%\n",
      "epoch:  4 batch:  600 [  6000/60000] loss: 0.00249779 \u0007ccuracy:  99.083%\n",
      "epoch:  4 batch: 1200 [ 12000/60000] loss: 0.03457307 \u0007ccuracy:  99.317%\n",
      "epoch:  4 batch: 1800 [ 18000/60000] loss: 0.00004691 \u0007ccuracy:  99.239%\n",
      "epoch:  4 batch: 2400 [ 24000/60000] loss: 0.01554098 \u0007ccuracy:  99.217%\n",
      "epoch:  4 batch: 3000 [ 30000/60000] loss: 0.00575724 \u0007ccuracy:  99.227%\n",
      "epoch:  4 batch: 3600 [ 36000/60000] loss: 0.14125806 \u0007ccuracy:  99.247%\n",
      "epoch:  4 batch: 4200 [ 42000/60000] loss: 0.01010558 \u0007ccuracy:  99.217%\n",
      "epoch:  4 batch: 4800 [ 48000/60000] loss: 0.00123541 \u0007ccuracy:  99.237%\n",
      "epoch:  4 batch: 5400 [ 54000/60000] loss: 0.00056461 \u0007ccuracy:  99.235%\n",
      "epoch:  4 batch: 6000 [ 60000/60000] loss: 0.23351526 \u0007ccuracy:  99.225%\n",
      "Training took 59.546269190311435 minutes\n"
     ]
    }
   ],
   "source": [
    "import time\n",
    "start_time = time.time()\n",
    "epochs = 5\n",
    "train_losses=[]\n",
    "test_losses=[]\n",
    "train_correct=[]\n",
    "test_correct=[]\n",
    "\n",
    "for i in range(epochs):\n",
    "    trn_corr=0\n",
    "    tst_corr=0\n",
    "    \n",
    "    # Run the training batches\n",
    "    for b, (x_train, y_train) in enumerate(train_loader):\n",
    "        b+=1\n",
    "        \n",
    "        # Apply the model\n",
    "        y_pred = model(x_train)# No need to flatten\n",
    "        loss = criterion(y_pred, y_train)\n",
    "        \n",
    "        # Tally the number of correct predictions\n",
    "        predicted = torch.max(y_pred.data, 1)[1]\n",
    "        batch_corr = (predicted==y_train).sum()\n",
    "        trn_corr+=batch_corr\n",
    "        \n",
    "        # Updata parameters\n",
    "        optimizer.zero_grad()\n",
    "        loss.backward()\n",
    "        optimizer.step()\n",
    "        \n",
    "        # Print interim results\n",
    "        if b%600==0:\n",
    "            \n",
    "            print(f'epoch: {i:2} batch: {b:4} [{10*b:6}/60000] loss: {loss.item():10.8f} \\accuracy: {trn_corr.item()*100/(10*b):7.3f}%')\n",
    "            #print(f'Epoch: {i} Batch: {b} Loss: {loss.item()}')\n",
    "            \n",
    "    train_losses.append(loss)\n",
    "    train_correct.append(trn_corr)\n",
    "    \n",
    "    # Run the testing batches\n",
    "    with torch.no_grad():\n",
    "        for b, (x_test, y_test) in enumerate(test_loader):\n",
    "            \n",
    "            # Apply the model\n",
    "            y_val = model(x_test)\n",
    "            \n",
    "            # Tally the number of correct predictions\n",
    "            predicted=torch.max(y_val.data, 1)[1]\n",
    "            tst_corr+= (predicted==y_test).sum()\n",
    "            \n",
    "            \n",
    "    loss = criterion(y_val, y_test)\n",
    "    test_losses.append(loss)\n",
    "    test_correct.append(tst_corr)\n",
    "    \n",
    "    \n",
    "current_time= time.time()\n",
    "total =current_time - start_time\n",
    "print(f'Training took {total/60} minutes')"
   ]
  },
  {
   "cell_type": "markdown",
   "metadata": {},
   "source": [
    "### Plot the loss and accuracy comparisons"
   ]
  },
  {
   "cell_type": "code",
   "execution_count": 38,
   "metadata": {},
   "outputs": [
    {
     "data": {
      "image/png": "[encoded data removed]",
      "text/plain": [
       "<Figure size 432x288 with 1 Axes>"
      ]
     },
     "metadata": {
      "needs_background": "light"
     },
     "output_type": "display_data"
    }
   ],
   "source": [
    "plt.plot(train_losses, label='Training Loss')\n",
    "plt.plot(test_losses, label = 'Validation Loss')\n",
    "plt.title('Loss at the end of each epoch')\n",
    "plt.legend()\n",
    "plt.show()"
   ]
  },
  {
   "cell_type": "markdown",
   "metadata": {},
   "source": [
    "While there may be some overfitting of the training data, there is far less than we saw with the ANN model."
   ]
  },
  {
   "cell_type": "code",
   "execution_count": 40,
   "metadata": {},
   "outputs": [
    {
     "data": {
      "image/png": "[encoded data removed]",
      "text/plain": [
       "<Figure size 432x288 with 1 Axes>"
      ]
     },
     "metadata": {
      "needs_background": "light"
     },
     "output_type": "display_data"
    }
   ],
   "source": [
    "plt.plot([t/600 for t in train_correct], label = 'Training Accuracy')\n",
    "plt.plot([t/100 for t in test_correct], label = 'Validation Accuracy')\n",
    "plt.title('Accuracy at the end of each epoch')\n",
    "plt.legend()\n",
    "plt.show()"
   ]
  },
  {
   "cell_type": "markdown",
   "metadata": {},
   "source": [
    "Recall that our [784,120,84,10] ANN returned an accuracy of 97.25% after 10 epochs. And it used 105,214\n",
    "parameters to our current 60,074."
   ]
  },
  {
   "cell_type": "code",
   "execution_count": 43,
   "metadata": {},
   "outputs": [],
   "source": [
    "test_load_all = DataLoader(test_data, batch_size=10000, shuffle=False)"
   ]
  },
  {
   "cell_type": "code",
   "execution_count": 45,
   "metadata": {},
   "outputs": [],
   "source": [
    "with torch.no_grad():\n",
    "    correct = 0\n",
    "    for x_test, y_test in test_load_all:\n",
    "        y_val = model(x_test)\n",
    "        predicted=torch.max(y_val, 1)[1]\n",
    "        correct+=(predicted==y_test).sum()"
   ]
  },
  {
   "cell_type": "code",
   "execution_count": 49,
   "metadata": {},
   "outputs": [],
   "source": [
    "corr_pred= correct.item()/len(test_data)"
   ]
  },
  {
   "cell_type": "code",
   "execution_count": 50,
   "metadata": {},
   "outputs": [
    {
     "name": "stdout",
     "output_type": "stream",
     "text": [
      "The correct Prediction is: 98.76%\n"
     ]
    }
   ],
   "source": [
    "print(f'The correct Prediction is: {corr_pred*100:.2f}%')"
   ]
  },
  {
   "cell_type": "markdown",
   "metadata": {},
   "source": [
    "### Display the confusion matrix"
   ]
  },
  {
   "cell_type": "code",
   "execution_count": 42,
   "metadata": {},
   "outputs": [
    {
     "name": "stdout",
     "output_type": "stream",
     "text": [
      "[[   0    1    2    3    4    5    6    7    8    9]]\n",
      "\n",
      "[[   1    0    0    0    0    0    0    0    0    0]\n",
      " [   0    1    0    0    0    0    0    0    0    0]\n",
      " [   0    0    1    0    0    0    0    0    0    0]\n",
      " [   0    0    0    1    0    0    0    0    0    0]\n",
      " [   0    0    0    0    1    0    0    0    0    0]\n",
      " [   0    0    0    0    0    1    0    0    0    0]\n",
      " [   0    0    0    0    0    0    1    0    0    0]\n",
      " [   0    0    0    0    0    0    0    1    0    0]\n",
      " [   0    0    0    0    0    0    0    0    1    0]\n",
      " [   0    0    0    0    0    0    0    0    0    1]]\n"
     ]
    }
   ],
   "source": [
    "# print a row of values for reference\n",
    "np.set_printoptions(formatter=dict(int=lambda x: f'{x:4}'))\n",
    "print(np.arange(10).reshape(1,10))\n",
    "print()\n",
    "\n",
    "# print the confusion matrix\n",
    "print(confusion_matrix(predicted.view(-1), y_test.view(-1)))"
   ]
  },
  {
   "cell_type": "markdown",
   "metadata": {},
   "source": [
    "### Run a new image (single image)through the model\n",
    "\n",
    "We can also pass a single image through the model to obtain a prediction. Pick a number from 0 to 9999, assign\n",
    "it to \"x\", and we'll use that value to select a number from the MNIST test set."
   ]
  },
  {
   "cell_type": "code",
   "execution_count": 53,
   "metadata": {},
   "outputs": [
    {
     "data": {
      "text/plain": [
       "<matplotlib.image.AxesImage at 0x7f37045fc8e0>"
      ]
     },
     "execution_count": 53,
     "metadata": {},
     "output_type": "execute_result"
    },
    {
     "data": {
      "image/png": "[encoded data removed]",
      "text/plain": [
       "<Figure size 72x72 with 1 Axes>"
      ]
     },
     "metadata": {
      "needs_background": "light"
     },
     "output_type": "display_data"
    }
   ],
   "source": [
    "x=2019\n",
    "plt.figure(figsize=(1,1))\n",
    "plt.imshow(test_data[x][0].reshape(28,28))#, cmap='gist_yarg')"
   ]
  },
  {
   "cell_type": "code",
   "execution_count": 54,
   "metadata": {},
   "outputs": [
    {
     "name": "stdout",
     "output_type": "stream",
     "text": [
      "Predicted Value: 9\n"
     ]
    }
   ],
   "source": [
    "# Let's predict the new image\n",
    "model.eval()\n",
    "with torch.no_grad():\n",
    "    new_pred = model(test_data[x][0].view(1,1,28,28)).argmax()\n",
    "print('Predicted Value:', new_pred.item())    "
   ]
  },
  {
   "cell_type": "code",
   "execution_count": null,
   "metadata": {},
   "outputs": [],
   "source": []
  }
 ],
 "metadata": {
  "kernelspec": {
   "display_name": "Python 3",
   "language": "python",
   "name": "python3"
  },
  "language_info": {
   "codemirror_mode": {
    "name": "ipython",
    "version": 3
   },
   "file_extension": ".py",
   "mimetype": "text/x-python",
   "name": "python",
   "nbconvert_exporter": "python",
   "pygments_lexer": "ipython3",
   "version": "3.8.5"
  }
 },
 "nbformat": 4,
 "nbformat_minor": 4
}
